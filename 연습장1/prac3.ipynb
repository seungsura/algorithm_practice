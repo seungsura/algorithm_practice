{
 "cells": [
  {
   "cell_type": "code",
   "execution_count": null,
   "metadata": {},
   "outputs": [],
   "source": [
    "#2839 처음 작성한 코드 틀림\n",
    "#5와 3을 동시에 이용하는 경우 포함 안함\n",
    "n = int(input())\n",
    "\n",
    "if n%5 == 0: #5로 나누어질때\n",
    "    print(n//5)\n",
    "\n",
    "else :\n",
    "    a = n%5\n",
    "    b = n//5\n",
    "    c = a//3\n",
    "    if a%3 == 0: \n",
    "        print(b + c)\n",
    "    else:\n",
    "        print(-1)\n"
   ]
  },
  {
   "cell_type": "code",
   "execution_count": null,
   "metadata": {},
   "outputs": [],
   "source": [
    "#5로 나눔\n",
    "#3으로 나눔\n",
    "#5와 3으로 나눔\n",
    "#안될 경우\n",
    "#3보다 5짜리 더 많이 사용\n",
    "\n",
    "n = int(input())\n",
    "\n",
    "if n % 5 == 0:  #5로 나눔\n",
    "    print(n // 5)\n",
    "\n",
    "else :\n",
    "    a = 0\n",
    "    while n >= 0:\n",
    "        n -= 3\n",
    "        a += 1\n",
    "        if n % 5 == 0:   #5와 3사용\n",
    "            a += n // 5\n",
    "            print(a)\n",
    "            break\n",
    "        elif n == 0:    #3으로 나눔\n",
    "            print(a)\n",
    "            break\n",
    "        elif n == 1 or n == 2 :   #안될경우\n",
    "            print(-1)\n",
    "            break\n",
    "\n",
    "#맞았음"
   ]
  },
  {
   "cell_type": "code",
   "execution_count": null,
   "metadata": {},
   "outputs": [],
   "source": [
    "#10757 그냥 더하기인데..? \n",
    "#큰 수 더하기가 다른 언어에서는 문제가 되나?????\n",
    "a,b = map(int, input().split())\n",
    "\n",
    "print(a + b)"
   ]
  },
  {
   "cell_type": "code",
   "execution_count": null,
   "metadata": {},
   "outputs": [],
   "source": [
    "#1978\n",
    "#소수 찾기 /// 소수 = 1과 자기자신으로만 나눠짐\n",
    "\n",
    "n = int(input())\n",
    "num = map(int, input().split())\n",
    "sosu = 0\n",
    "for a in num :  #숫자에 대해\n",
    "    cnt = 0\n",
    "    if a > 1:   # 1 제외 숫자에서\n",
    "        for i in range(2, a):  #2~num-1까지\n",
    "            if a % i == 0:\n",
    "                cnt += 1\n",
    "        if cnt == 0:\n",
    "            sosu += 1\n",
    "\n",
    "print(sosu)\n",
    "\n"
   ]
  },
  {
   "cell_type": "code",
   "execution_count": null,
   "metadata": {},
   "outputs": [],
   "source": [
    "#2581\n",
    "from numpy import append\n",
    "\n",
    "\n",
    "m = int(input())\n",
    "n = int(input())\n",
    "li = list()\n",
    "\n",
    "for a in range(m, n+1):\n",
    "    cnt = 0     \n",
    "    if a > 1:                #m과 n 사이 숫자에 대해 \n",
    "        for i in range(2, a):       # 2부터 m-1까지 \n",
    "            if a % i == 0:\n",
    "                cnt += 1\n",
    "                break\n",
    "        if cnt == 0:\n",
    "            li.append(a)\n",
    "\n",
    "if len(li) > 0:\n",
    "    print(sum(li))\n",
    "    print(min(li))\n",
    "\n",
    "else : \n",
    "    print(-1)\n",
    "\n"
   ]
  },
  {
   "cell_type": "code",
   "execution_count": null,
   "metadata": {},
   "outputs": [],
   "source": [
    "#11653 소인수분해\n",
    "n = int(input())\n",
    "\n",
    "\n",
    "if n > 1:\n",
    "    for i in range(2, n+1): \n",
    "        if n % i == 0:\n",
    "            while n % i == 0:\n",
    "                n = n // i\n",
    "                print(i)\n",
    "         \n",
    "\n"
   ]
  },
  {
   "cell_type": "code",
   "execution_count": null,
   "metadata": {},
   "outputs": [],
   "source": [
    "#1929 소수 구하기\n",
    "\n",
    "m,n = map(int, input().split())\n",
    "\n",
    "for a in range(m, n+1):\n",
    "    if a > 1:\n",
    "        for i in range(2, int(a** 0.5)+1):\n",
    "            if a % i == 0:\n",
    "                break\n",
    "        else :\n",
    "            print(a)\n",
    "                \n"
   ]
  },
  {
   "cell_type": "code",
   "execution_count": null,
   "metadata": {},
   "outputs": [],
   "source": [
    "a, b, c, d, e, f = map(int, input().split())\n",
    "\n",
    "print(1-a, 1-b, 2-c, 2-d, 2-e, 8-f)\n"
   ]
  },
  {
   "cell_type": "code",
   "execution_count": null,
   "metadata": {},
   "outputs": [],
   "source": [
    "def solution(n, m):\n",
    "    a = 0\n",
    "    b = 0\n",
    "    if m // n >= 1:\n",
    "        a = n\n",
    "        b = m\n",
    "    else: \n",
    "        a = 1\n",
    "        b = n * m\n",
    "    answer = [a ,b]\n",
    "    return answer"
   ]
  },
  {
   "cell_type": "code",
   "execution_count": 12,
   "metadata": {},
   "outputs": [],
   "source": [
    "def solution(n):\n",
    "    \n",
    "    a = int[1,50000000000001]\n",
    "    \n",
    "    if n ** 0.5 in a :\n",
    "        aw = ((n ** 0.5) + 1) ** 2\n",
    "    else :\n",
    "        aw = -1\n",
    "    \n",
    "    answer = aw\n",
    "    return answer"
   ]
  },
  {
   "cell_type": "code",
   "execution_count": null,
   "metadata": {},
   "outputs": [],
   "source": [
    "def solution(n):\n",
    "    li = []\n",
    "    a, b = divmod(n, 3)     \n",
    "    \n",
    "    if \n",
    "\n",
    "    answer = 0\n",
    "    return answer"
   ]
  },
  {
   "cell_type": "code",
   "execution_count": 62,
   "metadata": {},
   "outputs": [
    {
     "name": "stdout",
     "output_type": "stream",
     "text": [
      "8392\n"
     ]
    }
   ],
   "source": [
    "#4948 왜 틀린코드인지 모르겠음 \n",
    "# stop를 써서? \n",
    "#->이유 n값을 계속해서 받을 수 있게 while문 안에 input을 넣어야함\n",
    "from multiprocessing.resource_sharer import stop\n",
    "\n",
    "\n",
    "n = int(input())\n",
    "b = 0\n",
    "if n == 1:\n",
    "    print(1)\n",
    "elif n == 0:\n",
    "    stop\n",
    "else:\n",
    "    for i in range(n+1, (2 *n)+1):\n",
    "        a = 0 \n",
    "        for j in range(2, int(i ** 0.5)+1):\n",
    "            if i % j == 0:\n",
    "                a += 1\n",
    "                break\n",
    "        if a == 0:\n",
    "            b += 1\n",
    "\n",
    "    print(b)\n"
   ]
  },
  {
   "cell_type": "code",
   "execution_count": 67,
   "metadata": {},
   "outputs": [
    {
     "name": "stdout",
     "output_type": "stream",
     "text": [
      "1\n",
      "4\n",
      "3\n",
      "21\n",
      "135\n",
      "1033\n"
     ]
    }
   ],
   "source": [
    "#4948 시간초과\n",
    "\n",
    "while True:\n",
    "    n = int(input())\n",
    "    b = 0\n",
    "    if n == 0:\n",
    "        break \n",
    "    \n",
    "    elif n == 1:\n",
    "        b = 1\n",
    "\n",
    "    else :\n",
    "        for i in range(n+1, 2 * n + 1):\n",
    "            a = 0\n",
    "            for j in range(2, int(i ** 0.5)+1):\n",
    "                if i % j == 0:\n",
    "                    a += 1\n",
    "                    break\n",
    "            if a == 0:\n",
    "                b += 1\n",
    "    print(b)"
   ]
  },
  {
   "cell_type": "code",
   "execution_count": 10,
   "metadata": {},
   "outputs": [
    {
     "name": "stdout",
     "output_type": "stream",
     "text": [
      "1\n",
      "1\n"
     ]
    }
   ],
   "source": [
    "def sosu(n):\n",
    "    if n == 1:\n",
    "        return False\n",
    "    else :\n",
    "        for i in range(2, int(n ** 0.5 + 1)):\n",
    "            if n % i == 0:\n",
    "                return False\n",
    "        return True\n",
    "\n",
    "al = list(range(2, 2 * 123456))\n",
    "li = []\n",
    "\n",
    "for i in al:\n",
    "    if sosu(i):\n",
    "        li.append(i)\n",
    "\n",
    "\n",
    "while True:\n",
    "    n = int(input())\n",
    "    cnt = 0\n",
    "\n",
    "    if n == 0:\n",
    "        break\n",
    "\n",
    "    for i in li:\n",
    "        if n < i <= 2 * n:\n",
    "            cnt += 1\n",
    "    \n",
    "    print(cnt)\n",
    "\n",
    "    \n",
    "\n"
   ]
  },
  {
   "cell_type": "code",
   "execution_count": 18,
   "metadata": {},
   "outputs": [
    {
     "name": "stdout",
     "output_type": "stream",
     "text": [
      "3 5\n",
      "5 3\n",
      "3 7\n",
      "5 5\n",
      "7 3\n",
      "3 13\n",
      "5 11\n",
      "11 5\n",
      "13 3\n"
     ]
    }
   ],
   "source": [
    "#9020 \n",
    "\n",
    "def sosu(x):\n",
    "    if x == 1:\n",
    "        return False\n",
    "    else :\n",
    "        for i in range(2, int(x**0.5+1)):\n",
    "            if x % i == 0:\n",
    "                return False\n",
    "        return True\n",
    "\n",
    "al = list(range(1, 10001))\n",
    "li = []\n",
    "\n",
    "for i in al:\n",
    "    if sosu(i):\n",
    "        li.append(i)\n",
    "\n",
    "t = int(input())\n",
    "\n",
    "for i in range(t):\n",
    "    n = int(input())\n",
    "    lii = []\n",
    "    liii = []\n",
    "    a = 0\n",
    "    for j in li:\n",
    "        for k in li:\n",
    "            if j + k == n :\n",
    "                a = abs(j - k)\n",
    "                lii.append(a)\n",
    "                liii.append(j, k)\n",
    "    \n",
    "    \n",
    "\n",
    "                \n",
    "    \n"
   ]
  },
  {
   "cell_type": "code",
   "execution_count": 1,
   "metadata": {},
   "outputs": [],
   "source": [
    "def is_prime(n):\n",
    "    if n == 1:\n",
    "        return False\n",
    "    for j in range(2, int(n**0.5) + 1):\n",
    "        if n % j == 0:\n",
    "            return False\n",
    "    return True\n",
    "\n",
    "\n",
    "for _ in range(int(input())):\n",
    "    num = int(input())\n",
    "\n",
    "    a, b = num//2, num//2\n",
    "    while a > 0:\n",
    "        if is_prime(a) and is_prime(b):\n",
    "            print(a, b)\n",
    "        else:\n",
    "            a -= 1\n",
    "            b += 1"
   ]
  },
  {
   "cell_type": "code",
   "execution_count": null,
   "metadata": {},
   "outputs": [],
   "source": []
  }
 ],
 "metadata": {
  "kernelspec": {
   "display_name": "Python 3.8.8 ('tensorflow')",
   "language": "python",
   "name": "python3"
  },
  "language_info": {
   "codemirror_mode": {
    "name": "ipython",
    "version": 3
   },
   "file_extension": ".py",
   "mimetype": "text/x-python",
   "name": "python",
   "nbconvert_exporter": "python",
   "pygments_lexer": "ipython3",
   "version": "3.8.8"
  },
  "orig_nbformat": 4,
  "vscode": {
   "interpreter": {
    "hash": "a67d1e513a63fb5df12a1f88f9fb53c8b960337494b38d9e1ad0fe9c421b1da6"
   }
  }
 },
 "nbformat": 4,
 "nbformat_minor": 2
}
