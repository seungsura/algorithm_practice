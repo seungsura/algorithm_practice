{
 "cells": [
  {
   "cell_type": "code",
   "execution_count": 23,
   "metadata": {},
   "outputs": [],
   "source": [
    "#2292 백준 \n",
    "#육각형 벌집모양 1 - 6 - 12 - ..\n",
    "#한 면에 최대 3개 그 중 2개는 2개씩 겹침\n",
    "#6 * 3 - 6 , 1 6 12 18 ..\n",
    "#껍질 수 대로 방을 지남 (최소로 지날 때)\n",
    "\n",
    "input = int(input())\n",
    "\n",
    "def a(i):\n",
    "    i = 2 * i\n",
    "    return i\n",
    "\n",
    "for j in range(500000000):\n",
    "    if a(j) <= input < a(j+1):\n",
    "        print(j)\n",
    "        \n",
    "    elif input == 1:\n",
    "        print(1)\n",
    "\n",
    "#틀림 \n",
    "#정답은\n",
    "n = int(input())\n",
    "\n",
    "nums_pileup = 1  # 벌집의 개수, 1개부터 시작\n",
    "cnt = 1\n",
    "while n > nums_pileup :\n",
    "    nums_pileup += 6 * cnt  # 벌집이 6의 배수로 증가\n",
    "    cnt += 1  # 반복문을 반복하는 횟수\n",
    "print(cnt)\n",
    "    \n",
    "#두 번째 정답은\n",
    "n = int(input())\n",
    "\n",
    "line = 1\n",
    "next_num = 1\n",
    "\n",
    "if n == 1:\n",
    "    print(1)\n",
    "else:\n",
    "    while True:\n",
    "        if n <= next_num:\n",
    "            print(line)\n",
    "            break\n",
    "        \n",
    "        next_num += (6 * line)\n",
    "        line += 1 "
   ]
  },
  {
   "cell_type": "code",
   "execution_count": 40,
   "metadata": {},
   "outputs": [
    {
     "name": "stdout",
     "output_type": "stream",
     "text": [
      "1/3\n"
     ]
    }
   ],
   "source": [
    "#1193 백준\n",
    "\n",
    "inp = int(input())\n",
    "\n",
    "a = 1\n",
    "b = 2\n",
    "\n",
    "if inp == 1 :\n",
    "    print(\"1/1\")\n",
    "else :\n",
    "    while True:\n",
    "        if inp <= a :\n",
    "            print(str(b-1-(a-inp))+\"/\"+str(1+(a-inp)))\n",
    "            break \n",
    "        a = a + b\n",
    "        b = b + 1\n",
    "\n",
    "#틀린이유 순서가 잘못되어서\n",
    "#정답은\n",
    "n = int(input())\n",
    "\n",
    "line = 0\n",
    "end = 0\n",
    "while n > end:\n",
    "    line += 1\n",
    "    end += line\n",
    "\n",
    "diff = end - n\n",
    "if line%2 == 0: #짝수 라인 일때\n",
    "    top = line - diff\n",
    "    bottom = diff + 1\n",
    "else:\n",
    "    top = diff + 1\n",
    "    bottom = line - diff\n",
    "\n",
    "print(\"%d/%d\"%(top,bottom))"
   ]
  },
  {
   "cell_type": "code",
   "execution_count": 49,
   "metadata": {},
   "outputs": [
    {
     "name": "stdout",
     "output_type": "stream",
     "text": [
      "4\n"
     ]
    }
   ],
   "source": [
    "#2869 백준\n",
    "\n",
    "A, B, V = map(int, input().split())\n",
    "\n",
    "H = 0\n",
    "daym = 0\n",
    "dayn = 0\n",
    "\n",
    "while True : \n",
    "    if H + A >= V :\n",
    "        print(daym)\n",
    "        break\n",
    "    elif H + A < V :\n",
    "        H = A * daym - B * dayn\n",
    "    daym = daym + 1\n",
    "    dayn = dayn + 1\n",
    "\n",
    "#시간초과남\n",
    "#생각 1. 마지막엔 결국 A만큼 올라가게 되어있다.\n",
    "#생각 2. 그래서 V-A의 높이 만큼 A-B의 속도로 얼마나 걸리냐를 구하고 1을 더하면 된다.\n",
    "#생각 3. 소수점이 나올 경우 올림으로 처리한다.\n",
    "\n",
    "A, B, V = map(int, input().split())\n",
    " \n",
    "high = V - A\n",
    "if high % (A-B) == 0:\n",
    "    first = int(high/(A-B))\n",
    "else:\n",
    "    first = int(high/(A-B) + 1)\n",
    "print(first + 1)\n",
    "\n"
   ]
  },
  {
   "cell_type": "code",
   "execution_count": 43,
   "metadata": {},
   "outputs": [
    {
     "data": {
      "text/plain": [
       "(2, 1, 5)"
      ]
     },
     "execution_count": 43,
     "metadata": {},
     "output_type": "execute_result"
    }
   ],
   "source": [
    "#10250 백준\n",
    "\n",
    "t = int(input())\n",
    "\n",
    "for i in range(t):\n",
    "    h, w, n = map(int, input().split())\n",
    "    num = n//h + 1\n",
    "    floor = n % h\n",
    "    if n % h == 0:  # h의 배수이면,\n",
    "        num = n//h\n",
    "        floor = h\n",
    "    print(f'{floor*100+num}')"
   ]
  },
  {
   "cell_type": "code",
   "execution_count": null,
   "metadata": {},
   "outputs": [],
   "source": []
  }
 ],
 "metadata": {
  "kernelspec": {
   "display_name": "Python 3.8.8 ('tensorflow')",
   "language": "python",
   "name": "python3"
  },
  "language_info": {
   "codemirror_mode": {
    "name": "ipython",
    "version": 3
   },
   "file_extension": ".py",
   "mimetype": "text/x-python",
   "name": "python",
   "nbconvert_exporter": "python",
   "pygments_lexer": "ipython3",
   "version": "3.8.8"
  },
  "orig_nbformat": 4,
  "vscode": {
   "interpreter": {
    "hash": "a67d1e513a63fb5df12a1f88f9fb53c8b960337494b38d9e1ad0fe9c421b1da6"
   }
  }
 },
 "nbformat": 4,
 "nbformat_minor": 2
}
