{
 "cells": [
  {
   "cell_type": "code",
   "execution_count": null,
   "metadata": {},
   "outputs": [],
   "source": [
    "#백준 10872\n",
    "\n",
    "#팩토리얼 문제를 재귀함수로 풀어보기 \n",
    "#for문을 사용하지 않고 풀어보았다.\n",
    "\n",
    "def factorial(x):\n",
    "    aw = 1\n",
    "    if x > 1:\n",
    "        aw = x * factorial(x - 1)\n",
    "    return aw\n",
    "\n",
    "n = int(input())\n",
    "print(factorial(n))\n",
    "\n",
    "#함수 정의 aw = 1은 x가 <= 1일 경우에 return 하기 위해서 \n",
    "#x > 1 인 경우에 본인과 자신보다 1작은 경우를 계속 곱하여 aw에 넣어둠\n"
   ]
  },
  {
   "cell_type": "code",
   "execution_count": null,
   "metadata": {},
   "outputs": [],
   "source": [
    "#백준 10872\n",
    "\n",
    "#위와 같은 문제\n",
    "#for문을 사용해서 풀 수 있음 \n",
    "n = int(input())\n",
    "\n",
    "a = 1\n",
    "if n > 0:\n",
    "    for i in range(1, n+1):\n",
    "        a *= i\n",
    "\n",
    "print(a)"
   ]
  },
  {
   "cell_type": "code",
   "execution_count": null,
   "metadata": {},
   "outputs": [],
   "source": [
    "#백준 10870\n",
    "\n",
    "n = int(input())\n",
    "\n",
    "def fibo(x):\n",
    "    aw = x\n",
    "    if x > 1:\n",
    "        aw = fibo(x-1) + fibo(x-2)\n",
    "    return aw\n",
    "\n",
    "print(fibo(n))\n"
   ]
  },
  {
   "cell_type": "code",
   "execution_count": null,
   "metadata": {},
   "outputs": [],
   "source": [
    "#백준 17478\n",
    "#재귀함수를 풀어보자 ///// 틀리진 않음 이유? : 1. 재귀함수 사용 안함 2. print(a(n))을 써서 마지막줄에 None이 출력됌..\n",
    "\n",
    "n = int(input())\n",
    "\n",
    "print(\"어느 한 컴퓨터공학과 학생이 유명한 교수님을 찾아가 물었다.\")\n",
    "\n",
    "def a(x):\n",
    "    for i in range(0, n):\n",
    "        \n",
    "        print(\"_\" * (4 * (i)) + '\"재귀함수가 뭔가요?\"')\n",
    "        print(\"_\" * (4 * (i)) + '\"잘 들어보게. 옛날옛날 한 산 꼭대기에 이세상 모든 지식을 통달한 선인이 있었어.')\n",
    "        print(\"_\" * (4 * (i)) + '마을 사람들은 모두 그 선인에게 수많은 질문을 했고, 모두 지혜롭게 대답해 주었지.')\n",
    "        print(\"_\" * (4 * (i)) + '그의 답은 대부분 옳았다고 하네. 그런데 어느 날, 그 선인에게 한 선비가 찾아와서 물었어.\"')\n",
    "    \n",
    "    print(\"_\" * (4 * (n)) + '\"재귀함수가 뭔가요?\"')\n",
    "    print(\"_\" * (4 * (n)) + '\"재귀함수는 자기 자신을 호출하는 함수라네\"')\n",
    "    \n",
    "    for j in range(n, -1, -1):\n",
    "        print(\"_\" * (4 * (j)) + \"라고 답변하였지.\")\n",
    "\n",
    "a(n)"
   ]
  },
  {
   "cell_type": "code",
   "execution_count": null,
   "metadata": {},
   "outputs": [],
   "source": [
    "#17478\n",
    "#정답예시\n",
    "def recursive(m):\n",
    "    print(\"_\" * (4 * (n - m)) + '\"재귀함수가 뭔가요?\"')\n",
    "\n",
    "    if not m:\n",
    "        print(\"_\" * (4 * (n - m)) + '\"재귀함수는 자기 자신을 호출하는 함수라네\"')\n",
    "        print(\"_\" * (4 * (n - m)) + \"라고 답변하였지.\")\n",
    "        return\n",
    "\n",
    "    print(\"_\" * (4 * (n - m)) + '\"잘 들어보게. 옛날옛날 한 산 꼭대기에 이세상 모든 지식을 통달한 선인이 있었어.')\n",
    "    print(\"_\" * (4 * (n - m)) + \"마을 사람들은 모두 그 선인에게 수많은 질문을 했고, 모두 지혜롭게 대답해 주었지.\")\n",
    "    print(\"_\" * (4 * (n - m)) + '그의 답은 대부분 옳았다고 하네. 그런데 어느 날, 그 선인에게 한 선비가 찾아와서 물었어.\"')\n",
    "    recursive(m - 1)\n",
    "    print(\"_\" * (4 * (n - m)) + \"라고 답변하였지.\")\n",
    "\n",
    "\n",
    "n = int(input())\n",
    "print(\"어느 한 컴퓨터공학과 학생이 유명한 교수님을 찾아가 물었다.\")\n",
    "recursive(n)"
   ]
  },
  {
   "cell_type": "code",
   "execution_count": null,
   "metadata": {},
   "outputs": [],
   "source": [
    "#2447 \n",
    "#난 언제쯤 이런 문제를 잘 풀 수 있을까?..\n",
    "n = int(input())\n",
    "\n",
    "def app(len):\n",
    "    if len == 1:\n",
    "        return('*')\n",
    "    \n",
    "    stars = app(len // 3)\n",
    "    L = []\n",
    "    \n",
    "    for i in stars:\n",
    "        L.append(i * 3)\n",
    "    for i in stars:\n",
    "        L.append(i + ' ' * (len //3) + i)\n",
    "    for i in stars:\n",
    "        L.append( i * 3)\n",
    "    \n",
    "    return L\n",
    "        \n",
    "print('\\n'.join(app(n)))\n"
   ]
  },
  {
   "cell_type": "code",
   "execution_count": null,
   "metadata": {},
   "outputs": [],
   "source": [
    "# 11729 너무 어렵다 나는 언제 이런 문제를 풀 수 있는걸까?.. \n",
    "# 처음 이 문제를 본 사람이 바로 풀 수 있다고?? 나랑 실력차이가 너무 큰 것 같다...\n",
    "\n",
    "def hanoi(n, a, b):\n",
    "    if n == 1:\n",
    "        print(a, b)\n",
    "        return\n",
    "    else :\n",
    "        hanoi(n-1, a, 6-a-b)\n",
    "        print(a, b)\n",
    "        hanoi(n-1, 6-a-b, b)\n",
    "        \n",
    "n = int(input())\n",
    "print(2**n -1)\n",
    "hanoi(n, 1, 3)\n",
    "        \n",
    "\n",
    "\n"
   ]
  },
  {
   "cell_type": "code",
   "execution_count": null,
   "metadata": {},
   "outputs": [],
   "source": [
    "#25304 쉬어가는문제\n",
    "\n",
    "X = int(input())\n",
    "N = int(input())\n",
    "c = 0\n",
    "\n",
    "for i in range(N):\n",
    "        a, b = map(int, input().split())\n",
    "        c += a * b\n",
    "\n",
    "if c == X :\n",
    "    print('Yes')\n",
    "else :\n",
    "    print('No')\n",
    "        \n"
   ]
  },
  {
   "cell_type": "code",
   "execution_count": 34,
   "metadata": {},
   "outputs": [
    {
     "name": "stdout",
     "output_type": "stream",
     "text": [
      "21\n"
     ]
    }
   ],
   "source": [
    "#2798   어디가 틀린거지??\n",
    "\n",
    "N, M = map(int, input().split())\n",
    "li = list(map(int, input().split()))\n",
    "lii = []\n",
    "for i in range(0, N-2):\n",
    "    for j in range(i+1, N-1):\n",
    "        for k in range(j+1, N):\n",
    "            lii.append(li[i]+li[j]+li[k])\n",
    "lii.sort()\n",
    "for i in range(0, len(lii)):\n",
    "    if lii[i] > M:\n",
    "        print(lii[i-1])\n",
    "        break"
   ]
  },
  {
   "cell_type": "code",
   "execution_count": null,
   "metadata": {},
   "outputs": [],
   "source": [
    "#2798 이게 정답 (순열사용X)\n",
    "\n",
    "n, m = map(int, input().split())\n",
    "num = list(map(int, input().split()))\n",
    "l = len(num)\n",
    "ans = 0\n",
    "for i in range(0, l-2):\n",
    "    for j in range(i+1, l-1):\n",
    "        for k in range(j+1, l):\n",
    "            if(num[i] + num[j] + num[k] > m):\n",
    "                continue\n",
    "            else:\n",
    "                ans = max(ans ,num[i] + num[j] + num[k])\n",
    "\n",
    "print(ans)"
   ]
  },
  {
   "cell_type": "code",
   "execution_count": 11,
   "metadata": {},
   "outputs": [
    {
     "name": "stdout",
     "output_type": "stream",
     "text": [
      "216\n"
     ]
    }
   ],
   "source": [
    "#2231\n",
    "\n",
    "n = int(input())\n",
    "\n",
    "for i in range(1, n+1):\n",
    "    a = list(map(int, int(i)))\n",
    "    aw = sum(a) + i\n",
    "    if aw == n:\n",
    "        print(aw)\n",
    "        break\n",
    "    else :\n",
    "        print(0)\n",
    "\n",
    "    "
   ]
  },
  {
   "cell_type": "code",
   "execution_count": 12,
   "metadata": {},
   "outputs": [
    {
     "data": {
      "text/plain": [
       "[216]"
      ]
     },
     "execution_count": 12,
     "metadata": {},
     "output_type": "execute_result"
    }
   ],
   "source": []
  },
  {
   "cell_type": "code",
   "execution_count": null,
   "metadata": {},
   "outputs": [],
   "source": []
  }
 ],
 "metadata": {
  "kernelspec": {
   "display_name": "Python 3.8.8 ('tensorflow')",
   "language": "python",
   "name": "python3"
  },
  "language_info": {
   "codemirror_mode": {
    "name": "ipython",
    "version": 3
   },
   "file_extension": ".py",
   "mimetype": "text/x-python",
   "name": "python",
   "nbconvert_exporter": "python",
   "pygments_lexer": "ipython3",
   "version": "3.8.8"
  },
  "orig_nbformat": 4,
  "vscode": {
   "interpreter": {
    "hash": "a67d1e513a63fb5df12a1f88f9fb53c8b960337494b38d9e1ad0fe9c421b1da6"
   }
  }
 },
 "nbformat": 4,
 "nbformat_minor": 2
}
