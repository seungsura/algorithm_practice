{
 "cells": [
  {
   "cell_type": "code",
   "execution_count": null,
   "metadata": {},
   "outputs": [],
   "source": [
    "#백준 10872\n",
    "\n",
    "#팩토리얼 문제를 재귀함수로 풀어보기 \n",
    "#for문을 사용하지 않고 풀어보았다.\n",
    "\n",
    "def factorial(x):\n",
    "    aw = 1\n",
    "    if x > 1:\n",
    "        aw = x * factorial(x - 1)\n",
    "    return aw\n",
    "\n",
    "n = int(input())\n",
    "print(factorial(n))\n",
    "\n",
    "#함수 정의 aw = 1은 x가 <= 1일 경우에 return 하기 위해서 \n",
    "#x > 1 인 경우에 본인과 자신보다 1작은 경우를 계속 곱하여 aw에 넣어둠\n"
   ]
  },
  {
   "cell_type": "code",
   "execution_count": null,
   "metadata": {},
   "outputs": [],
   "source": [
    "#백준 10872\n",
    "\n",
    "#위와 같은 문제\n",
    "#for문을 사용해서 풀 수 있음 \n",
    "n = int(input())\n",
    "\n",
    "a = 1\n",
    "if n > 0:\n",
    "    for i in range(1, n+1):\n",
    "        a *= i\n",
    "\n",
    "print(a)"
   ]
  },
  {
   "cell_type": "code",
   "execution_count": null,
   "metadata": {},
   "outputs": [],
   "source": [
    "#백준 10870\n",
    "\n",
    "n = int(input())\n",
    "\n",
    "def fibo(x):\n",
    "    aw = x\n",
    "    if x > 1:\n",
    "        aw = fibo(x-1) + fibo(x-2)\n",
    "    return aw\n",
    "\n",
    "print(fibo(n))\n"
   ]
  },
  {
   "cell_type": "code",
   "execution_count": null,
   "metadata": {},
   "outputs": [],
   "source": [
    "#백준 17478\n",
    "#재귀함수를 풀어보자 ///// 틀리진 않음 이유? : 1. 재귀함수 사용 안함 2. print(a(n))을 써서 마지막줄에 None이 출력됌..\n",
    "\n",
    "n = int(input())\n",
    "\n",
    "print(\"어느 한 컴퓨터공학과 학생이 유명한 교수님을 찾아가 물었다.\")\n",
    "\n",
    "def a(x):\n",
    "    for i in range(0, n):\n",
    "        \n",
    "        print(\"_\" * (4 * (i)) + '\"재귀함수가 뭔가요?\"')\n",
    "        print(\"_\" * (4 * (i)) + '\"잘 들어보게. 옛날옛날 한 산 꼭대기에 이세상 모든 지식을 통달한 선인이 있었어.')\n",
    "        print(\"_\" * (4 * (i)) + '마을 사람들은 모두 그 선인에게 수많은 질문을 했고, 모두 지혜롭게 대답해 주었지.')\n",
    "        print(\"_\" * (4 * (i)) + '그의 답은 대부분 옳았다고 하네. 그런데 어느 날, 그 선인에게 한 선비가 찾아와서 물었어.\"')\n",
    "    \n",
    "    print(\"_\" * (4 * (n)) + '\"재귀함수가 뭔가요?\"')\n",
    "    print(\"_\" * (4 * (n)) + '\"재귀함수는 자기 자신을 호출하는 함수라네\"')\n",
    "    \n",
    "    for j in range(n, -1, -1):\n",
    "        print(\"_\" * (4 * (j)) + \"라고 답변하였지.\")\n",
    "\n",
    "a(n)"
   ]
  },
  {
   "cell_type": "code",
   "execution_count": null,
   "metadata": {},
   "outputs": [],
   "source": [
    "#17478\n",
    "#정답예시\n",
    "def recursive(m):\n",
    "    print(\"_\" * (4 * (n - m)) + '\"재귀함수가 뭔가요?\"')\n",
    "\n",
    "    if not m:\n",
    "        print(\"_\" * (4 * (n - m)) + '\"재귀함수는 자기 자신을 호출하는 함수라네\"')\n",
    "        print(\"_\" * (4 * (n - m)) + \"라고 답변하였지.\")\n",
    "        return\n",
    "\n",
    "    print(\"_\" * (4 * (n - m)) + '\"잘 들어보게. 옛날옛날 한 산 꼭대기에 이세상 모든 지식을 통달한 선인이 있었어.')\n",
    "    print(\"_\" * (4 * (n - m)) + \"마을 사람들은 모두 그 선인에게 수많은 질문을 했고, 모두 지혜롭게 대답해 주었지.\")\n",
    "    print(\"_\" * (4 * (n - m)) + '그의 답은 대부분 옳았다고 하네. 그런데 어느 날, 그 선인에게 한 선비가 찾아와서 물었어.\"')\n",
    "    recursive(m - 1)\n",
    "    print(\"_\" * (4 * (n - m)) + \"라고 답변하였지.\")\n",
    "\n",
    "\n",
    "n = int(input())\n",
    "print(\"어느 한 컴퓨터공학과 학생이 유명한 교수님을 찾아가 물었다.\")\n",
    "recursive(n)"
   ]
  },
  {
   "cell_type": "code",
   "execution_count": 3,
   "metadata": {},
   "outputs": [
    {
     "name": "stdout",
     "output_type": "stream",
     "text": [
      "***************************\n",
      "* ** ** ** ** ** ** ** ** *\n",
      "***************************\n",
      "***   ******   ******   ***\n",
      "* *   * ** *   * ** *   * *\n",
      "***   ******   ******   ***\n",
      "***************************\n",
      "* ** ** ** ** ** ** ** ** *\n",
      "***************************\n",
      "*********         *********\n",
      "* ** ** *         * ** ** *\n",
      "*********         *********\n",
      "***   ***         ***   ***\n",
      "* *   * *         * *   * *\n",
      "***   ***         ***   ***\n",
      "*********         *********\n",
      "* ** ** *         * ** ** *\n",
      "*********         *********\n",
      "***************************\n",
      "* ** ** ** ** ** ** ** ** *\n",
      "***************************\n",
      "***   ******   ******   ***\n",
      "* *   * ** *   * ** *   * *\n",
      "***   ******   ******   ***\n",
      "***************************\n",
      "* ** ** ** ** ** ** ** ** *\n",
      "***************************\n"
     ]
    }
   ],
   "source": [
    "#2447 \n",
    "#난 언제쯤 이런 문제를 잘 풀 수 있을까?..\n",
    "n = int(input())\n",
    "\n",
    "def app(len):\n",
    "    if len == 1:\n",
    "        return('*')\n",
    "    \n",
    "    stars = app(len // 3)\n",
    "    L = []\n",
    "    \n",
    "    for i in stars:\n",
    "        L.append(i * 3)\n",
    "    for i in stars:\n",
    "        L.append(i + ' ' * (len //3) + i)\n",
    "    for i in stars:\n",
    "        L.append( i * 3)\n",
    "    \n",
    "    return L\n",
    "        \n",
    "print('\\n'.join(app(n)))\n"
   ]
  },
  {
   "cell_type": "code",
   "execution_count": null,
   "metadata": {},
   "outputs": [],
   "source": []
  },
  {
   "cell_type": "code",
   "execution_count": null,
   "metadata": {},
   "outputs": [],
   "source": []
  }
 ],
 "metadata": {
  "kernelspec": {
   "display_name": "Python 3.8.8 ('tensorflow')",
   "language": "python",
   "name": "python3"
  },
  "language_info": {
   "codemirror_mode": {
    "name": "ipython",
    "version": 3
   },
   "file_extension": ".py",
   "mimetype": "text/x-python",
   "name": "python",
   "nbconvert_exporter": "python",
   "pygments_lexer": "ipython3",
   "version": "3.8.8"
  },
  "orig_nbformat": 4,
  "vscode": {
   "interpreter": {
    "hash": "a67d1e513a63fb5df12a1f88f9fb53c8b960337494b38d9e1ad0fe9c421b1da6"
   }
  }
 },
 "nbformat": 4,
 "nbformat_minor": 2
}
