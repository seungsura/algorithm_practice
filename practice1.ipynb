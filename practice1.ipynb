{
 "cells": [
  {
   "cell_type": "code",
   "execution_count": 2,
   "metadata": {},
   "outputs": [
    {
     "name": "stdout",
     "output_type": "stream",
     "text": [
      "1\n"
     ]
    }
   ],
   "source": [
    "#백준 10872\n",
    "\n",
    "#팩토리얼 문제를 재귀함수로 풀어보기 \n",
    "#for문을 사용하지 않고 풀어보았다.\n",
    "\n",
    "def factorial(x):\n",
    "    aw = 1\n",
    "    if x > 1:\n",
    "        aw = x * factorial(x - 1)\n",
    "    return aw\n",
    "\n",
    "n = int(input())\n",
    "print(factorial(n))\n",
    "\n",
    "#함수 정의 aw = 1은 x가 <= 1일 경우에 return 하기 위해서 \n",
    "#x > 1 인 경우에 본인과 자신보다 1작은 경우를 계속 곱하여 aw에 넣어둠\n"
   ]
  },
  {
   "cell_type": "code",
   "execution_count": 3,
   "metadata": {},
   "outputs": [
    {
     "name": "stdout",
     "output_type": "stream",
     "text": [
      "3628800\n"
     ]
    }
   ],
   "source": [
    "#백준 10872\n",
    "\n",
    "#위와 같은 문제\n",
    "#for문을 사용해서 풀 수 있음 \n",
    "n = int(input())\n",
    "\n",
    "a = 1\n",
    "if n > 0:\n",
    "    for i in range(1, n+1):\n",
    "        a *= i\n",
    "\n",
    "print(a)"
   ]
  },
  {
   "cell_type": "code",
   "execution_count": 15,
   "metadata": {},
   "outputs": [
    {
     "name": "stdout",
     "output_type": "stream",
     "text": [
      "55\n"
     ]
    }
   ],
   "source": [
    "#백준 10870\n",
    "\n",
    "n = int(input())\n",
    "\n",
    "def fibo(x):\n",
    "    aw = x\n",
    "    if x > 1:\n",
    "        aw = fibo(x-1) + fibo(x-2)\n",
    "    return aw\n",
    "\n",
    "print(fibo(n))\n"
   ]
  },
  {
   "cell_type": "code",
   "execution_count": null,
   "metadata": {},
   "outputs": [],
   "source": []
  }
 ],
 "metadata": {
  "kernelspec": {
   "display_name": "Python 3.8.8 ('tensorflow')",
   "language": "python",
   "name": "python3"
  },
  "language_info": {
   "codemirror_mode": {
    "name": "ipython",
    "version": 3
   },
   "file_extension": ".py",
   "mimetype": "text/x-python",
   "name": "python",
   "nbconvert_exporter": "python",
   "pygments_lexer": "ipython3",
   "version": "3.8.8"
  },
  "orig_nbformat": 4,
  "vscode": {
   "interpreter": {
    "hash": "a67d1e513a63fb5df12a1f88f9fb53c8b960337494b38d9e1ad0fe9c421b1da6"
   }
  }
 },
 "nbformat": 4,
 "nbformat_minor": 2
}
