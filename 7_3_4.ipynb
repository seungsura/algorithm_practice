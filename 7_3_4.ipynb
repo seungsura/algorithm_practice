{
 "cells": [
  {
   "cell_type": "code",
   "execution_count": 6,
   "metadata": {},
   "outputs": [
    {
     "name": "stdout",
     "output_type": "stream",
     "text": [
      "9\n",
      "9\n"
     ]
    }
   ],
   "source": [
    "#2562\n",
    "\n",
    "nl = []\n",
    "for i in range(9):\n",
    "    nl.append(int(input()))\n",
    "print(max(nl))\n",
    "print(nl.index(max(nl))+1)"
   ]
  },
  {
   "cell_type": "code",
   "execution_count": null,
   "metadata": {},
   "outputs": [],
   "source": [
    "#2577\n",
    "a = int(input())\n",
    "b = int(input())\n",
    "c = int(input())\n",
    "nl = list(str(a * b * c))\n",
    "ls = [0,0,0,0,0,0,0,0,0,0]\n",
    "for i in nl :\n",
    "    ls[int(i)] = ls[int(i)] + 1\n",
    "for j in ls : \n",
    "    print()\n"
   ]
  },
  {
   "cell_type": "code",
   "execution_count": 38,
   "metadata": {},
   "outputs": [
    {
     "name": "stdout",
     "output_type": "stream",
     "text": [
      "6\n"
     ]
    }
   ],
   "source": [
    "#3052\n",
    "nl = []\n",
    "for i in range(10):\n",
    "    a = int(input())\n",
    "    if a % 42 not in nl:\n",
    "        nl.append(a % 42)\n",
    "print(len(nl))"
   ]
  },
  {
   "cell_type": "code",
   "execution_count": 63,
   "metadata": {},
   "outputs": [
    {
     "name": "stdout",
     "output_type": "stream",
     "text": [
      "38.75\n"
     ]
    }
   ],
   "source": [
    "#1546 처음 작성한 코드도 됌. 다만, 문제를 똑바로 안읽어 \n",
    "#입력값이 한 줄로 입력되는지 잊음\n",
    "\n",
    "nl = []\n",
    "na = []\n",
    "aw = 0\n",
    "a = int(input())\n",
    "for i in range(a):\n",
    "    b = int((input()))\n",
    "    nl.append(b)\n",
    "for j in range(a) :\n",
    "    na.append(nl[j] / max(nl)*100)\n",
    "    aw = aw + na[j]\n",
    "print (aw / a)\n",
    "\n",
    "#다시 작성한 코드\n",
    "\n",
    "aw = 0\n",
    "na = []\n",
    "a= int(input())\n",
    "nl = list(map(int, input().split()))\n",
    "\n",
    "for i in range (a):\n",
    "    na.append(nl[i] / max(nl) * 100)\n",
    "    aw = aw + na[i]\n",
    "print(aw / a)  \n",
    "   \n"
   ]
  },
  {
   "cell_type": "code",
   "execution_count": 9,
   "metadata": {},
   "outputs": [
    {
     "ename": "SyntaxError",
     "evalue": "unexpected EOF while parsing (<ipython-input-9-6b702215b915>, line 8)",
     "output_type": "error",
     "traceback": [
      "\u001b[1;36m  File \u001b[1;32m\"<ipython-input-9-6b702215b915>\"\u001b[1;36m, line \u001b[1;32m8\u001b[0m\n\u001b[1;33m    \u001b[0m\n\u001b[1;37m    ^\u001b[0m\n\u001b[1;31mSyntaxError\u001b[0m\u001b[1;31m:\u001b[0m unexpected EOF while parsing\n"
     ]
    }
   ],
   "source": [
    "#8958 처음 작성한 식 끝까지 작성 못함\n",
    "\n",
    "a = int(input())\n",
    "nl = list()\n",
    "c = 0\n",
    "for i in range(a):\n",
    "    b = str(input())\n",
    "    nl = b\n",
    "    for j in nl:\n",
    "        if nl[j-1] != O & nl[j] == O:\n",
    "            c = c + 1\n",
    "        elif nl[j-1] == O & nl[j] == O:\n",
    "            c = c + \n",
    "\n",
    "# 입력받을 값을 2개를 만들면 해결가능하였음\n",
    "\n",
    "a = int(input())\n",
    "for i in range(a):\n",
    "    b = list(input())\n",
    "    n = 0\n",
    "    na = 0\n",
    "    for j in b:\n",
    "        if j == 'O':\n",
    "            n = n + 1\n",
    "            na = na + n\n",
    "        else:\n",
    "            n = 0 \n",
    "    print(na)"
   ]
  },
  {
   "cell_type": "code",
   "execution_count": 61,
   "metadata": {},
   "outputs": [
    {
     "name": "stdout",
     "output_type": "stream",
     "text": [
      "40.000%\n",
      "57.143%\n",
      "33.333%\n",
      "33.333%\n",
      "3.252%\n"
     ]
    }
   ],
   "source": [
    "#4344 소수점 셋째 자리까지 출력 하는 방법을 모름 + 틀림\n",
    "\n",
    "a = int(input())\n",
    "n = 0\n",
    "nb = 0\n",
    "for i in range(a):\n",
    "    b = list(input().split())\n",
    "    for j in b:\n",
    "        n = n + int(j)\n",
    "    na = (n - int(b[0])) / int(b[0])\n",
    "    for k in b:\n",
    "        if int(k) > na:\n",
    "            nb = nb + 1\n",
    "    aw = nb / int(b[0]) * 100\n",
    "    print('%.3f' %aw + '%') # 소수점 셋째자리까지 출력 방법\n",
    "\n",
    "# n = 0 , nb = 0 을 for 구문 안에 넣어두지 않아 초기화가 되지 않았음\n",
    "a = int(input())\n",
    "for i in range(a):\n",
    "    n = 0\n",
    "    nb = 0\n",
    "    b = list(input().split())\n",
    "    for j in b:\n",
    "        n = n + int(j)\n",
    "    na = (n - int(b[0])) / int(b[0])\n",
    "    for k in b:\n",
    "        if int(k) > na:\n",
    "            nb = nb + 1\n",
    "    aw = nb / int(b[0]) * 100\n",
    "    print('%.3f' %aw + '%')\n",
    "\n",
    "# 정답은\n",
    "num = int(input())\n",
    "\n",
    "for _ in range(num):\n",
    "    scores = list(map(int, input().split()))\n",
    "    avg = sum(scores[1:])/scores[0]\n",
    "    \n",
    "    cnt = 0\n",
    "    for i in scores[1:]:\n",
    "        if i > avg:\n",
    "            cnt += 1\n",
    "            \n",
    "    per = (cnt/scores[0])*100\n",
    "    print('%.3f' %per + '%')\n"
   ]
  },
  {
   "cell_type": "code",
   "execution_count": 66,
   "metadata": {},
   "outputs": [
    {
     "data": {
      "text/plain": [
       "[23, 2, 3232, 2, 32, 32]"
      ]
     },
     "execution_count": 66,
     "metadata": {},
     "output_type": "execute_result"
    }
   ],
   "source": []
  },
  {
   "cell_type": "code",
   "execution_count": 69,
   "metadata": {},
   "outputs": [
    {
     "data": {
      "text/plain": [
       "[728972, 8972189, 98, 21789, 9, 71298]"
      ]
     },
     "execution_count": 69,
     "metadata": {},
     "output_type": "execute_result"
    }
   ],
   "source": []
  },
  {
   "cell_type": "code",
   "execution_count": null,
   "metadata": {},
   "outputs": [],
   "source": []
  }
 ],
 "metadata": {
  "kernelspec": {
   "display_name": "Python 3.8.8 ('base')",
   "language": "python",
   "name": "python3"
  },
  "language_info": {
   "codemirror_mode": {
    "name": "ipython",
    "version": 3
   },
   "file_extension": ".py",
   "mimetype": "text/x-python",
   "name": "python",
   "nbconvert_exporter": "python",
   "pygments_lexer": "ipython3",
   "version": "3.8.8"
  },
  "orig_nbformat": 4,
  "vscode": {
   "interpreter": {
    "hash": "f0c1aeec31cf675632540dd5d68a13a3fe8c6f49e80f8045887c88a29c5c55cc"
   }
  }
 },
 "nbformat": 4,
 "nbformat_minor": 2
}
