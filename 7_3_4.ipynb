{
 "cells": [
  {
   "cell_type": "code",
   "execution_count": 6,
   "metadata": {},
   "outputs": [
    {
     "name": "stdout",
     "output_type": "stream",
     "text": [
      "9\n",
      "9\n"
     ]
    }
   ],
   "source": [
    "#2562\n",
    "\n",
    "nl = []\n",
    "for i in range(9):\n",
    "    nl.append(int(input()))\n",
    "print(max(nl))\n",
    "print(nl.index(max(nl))+1)"
   ]
  },
  {
   "cell_type": "code",
   "execution_count": null,
   "metadata": {},
   "outputs": [],
   "source": [
    "#2577\n",
    "a = int(input())\n",
    "b = int(input())\n",
    "c = int(input())\n",
    "nl = list(str(a * b * c))\n",
    "ls = [0,0,0,0,0,0,0,0,0,0]\n",
    "for i in nl :\n",
    "    ls[int(i)] = ls[int(i)] + 1\n",
    "for j in ls : \n",
    "    print()\n"
   ]
  },
  {
   "cell_type": "code",
   "execution_count": 38,
   "metadata": {},
   "outputs": [
    {
     "name": "stdout",
     "output_type": "stream",
     "text": [
      "6\n"
     ]
    }
   ],
   "source": [
    "#3052\n",
    "nl = []\n",
    "for i in range(10):\n",
    "    a = int(input())\n",
    "    if a % 42 not in nl:\n",
    "        nl.append(a % 42)\n",
    "print(len(nl))"
   ]
  },
  {
   "cell_type": "code",
   "execution_count": 63,
   "metadata": {},
   "outputs": [
    {
     "name": "stdout",
     "output_type": "stream",
     "text": [
      "38.75\n"
     ]
    }
   ],
   "source": [
    "#1546 처음 작성한 코드도 됌. 다만, 문제를 똑바로 안읽어 \n",
    "#입력값이 한 줄로 입력되는지 잊음\n",
    "\n",
    "nl = []\n",
    "na = []\n",
    "aw = 0\n",
    "a = int(input())\n",
    "for i in range(a):\n",
    "    b = int((input()))\n",
    "    nl.append(b)\n",
    "for j in range(a) :\n",
    "    na.append(nl[j] / max(nl)*100)\n",
    "    aw = aw + na[j]\n",
    "print (aw / a)\n",
    "\n",
    "#다시 작성한 코드\n",
    "\n",
    "aw = 0\n",
    "na = []\n",
    "a= int(input())\n",
    "nl = list(map(int, input().split()))\n",
    "\n",
    "for i in range (a):\n",
    "    na.append(nl[i] / max(nl) * 100)\n",
    "    aw = aw + na[i]\n",
    "print(aw / a)  \n",
    "   \n"
   ]
  },
  {
   "cell_type": "code",
   "execution_count": 45,
   "metadata": {},
   "outputs": [
    {
     "data": {
      "text/plain": [
       "3"
      ]
     },
     "execution_count": 45,
     "metadata": {},
     "output_type": "execute_result"
    }
   ],
   "source": []
  },
  {
   "cell_type": "code",
   "execution_count": null,
   "metadata": {},
   "outputs": [],
   "source": []
  }
 ],
 "metadata": {
  "kernelspec": {
   "display_name": "Python 3.8.8 ('base')",
   "language": "python",
   "name": "python3"
  },
  "language_info": {
   "codemirror_mode": {
    "name": "ipython",
    "version": 3
   },
   "file_extension": ".py",
   "mimetype": "text/x-python",
   "name": "python",
   "nbconvert_exporter": "python",
   "pygments_lexer": "ipython3",
   "version": "3.8.8"
  },
  "orig_nbformat": 4,
  "vscode": {
   "interpreter": {
    "hash": "f0c1aeec31cf675632540dd5d68a13a3fe8c6f49e80f8045887c88a29c5c55cc"
   }
  }
 },
 "nbformat": 4,
 "nbformat_minor": 2
}
