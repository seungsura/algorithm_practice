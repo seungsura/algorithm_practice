{
 "cells": [
  {
   "cell_type": "code",
   "execution_count": 6,
   "metadata": {},
   "outputs": [
    {
     "name": "stdout",
     "output_type": "stream",
     "text": [
      "9\n",
      "9\n"
     ]
    }
   ],
   "source": [
    "#2562\n",
    "\n",
    "nl = []\n",
    "for i in range(9):\n",
    "    nl.append(int(input()))\n",
    "print(max(nl))\n",
    "print(nl.index(max(nl))+1)"
   ]
  },
  {
   "cell_type": "code",
   "execution_count": null,
   "metadata": {},
   "outputs": [],
   "source": [
    "#2577\n",
    "a = int(input())\n",
    "b = int(input())\n",
    "c = int(input())\n",
    "nl = list(str(a * b * c))\n",
    "ls = [0,0,0,0,0,0,0,0,0,0]\n",
    "for i in nl :\n",
    "    ls[int(i)] = ls[int(i)] + 1\n",
    "for j in ls : \n",
    "    print()\n"
   ]
  },
  {
   "cell_type": "code",
   "execution_count": 38,
   "metadata": {},
   "outputs": [
    {
     "name": "stdout",
     "output_type": "stream",
     "text": [
      "6\n"
     ]
    }
   ],
   "source": [
    "#3052\n",
    "nl = []\n",
    "for i in range(10):\n",
    "    a = int(input())\n",
    "    if a % 42 not in nl:\n",
    "        nl.append(a % 42)\n",
    "print(len(nl))"
   ]
  },
  {
   "cell_type": "code",
   "execution_count": 63,
   "metadata": {},
   "outputs": [
    {
     "name": "stdout",
     "output_type": "stream",
     "text": [
      "38.75\n"
     ]
    }
   ],
   "source": [
    "#1546 처음 작성한 코드도 됌. 다만, 문제를 똑바로 안읽어 \n",
    "#입력값이 한 줄로 입력되는지 잊음\n",
    "\n",
    "nl = []\n",
    "na = []\n",
    "aw = 0\n",
    "a = int(input())\n",
    "for i in range(a):\n",
    "    b = int((input()))\n",
    "    nl.append(b)\n",
    "for j in range(a) :\n",
    "    na.append(nl[j] / max(nl)*100)\n",
    "    aw = aw + na[j]\n",
    "print (aw / a)\n",
    "\n",
    "#다시 작성한 코드\n",
    "\n",
    "aw = 0\n",
    "na = []\n",
    "a= int(input())\n",
    "nl = list(map(int, input().split()))\n",
    "\n",
    "for i in range (a):\n",
    "    na.append(nl[i] / max(nl) * 100)\n",
    "    aw = aw + na[i]\n",
    "print(aw / a)  \n",
    "   \n"
   ]
  },
  {
   "cell_type": "code",
   "execution_count": 9,
   "metadata": {},
   "outputs": [
    {
     "ename": "SyntaxError",
     "evalue": "unexpected EOF while parsing (<ipython-input-9-6b702215b915>, line 8)",
     "output_type": "error",
     "traceback": [
      "\u001b[1;36m  File \u001b[1;32m\"<ipython-input-9-6b702215b915>\"\u001b[1;36m, line \u001b[1;32m8\u001b[0m\n\u001b[1;33m    \u001b[0m\n\u001b[1;37m    ^\u001b[0m\n\u001b[1;31mSyntaxError\u001b[0m\u001b[1;31m:\u001b[0m unexpected EOF while parsing\n"
     ]
    }
   ],
   "source": [
    "#8958 처음 작성한 식 끝까지 작성 못함\n",
    "\n",
    "a = int(input())\n",
    "nl = list()\n",
    "c = 0\n",
    "for i in range(a):\n",
    "    b = str(input())\n",
    "    nl = b\n",
    "    for j in nl:\n",
    "        if nl[j-1] != O & nl[j] == O:\n",
    "            c = c + 1\n",
    "        elif nl[j-1] == O & nl[j] == O:\n",
    "            c = c + \n",
    "\n",
    "# 입력받을 값을 2개를 만들면 해결가능하였음\n",
    "\n",
    "a = int(input())\n",
    "for i in range(a):\n",
    "    b = list(input())\n",
    "    n = 0\n",
    "    na = 0\n",
    "    for j in b:\n",
    "        if j == 'O':\n",
    "            n = n + 1\n",
    "            na = na + n\n",
    "        else:\n",
    "            n = 0 \n",
    "    print(na)"
   ]
  },
  {
   "cell_type": "code",
   "execution_count": 61,
   "metadata": {},
   "outputs": [
    {
     "name": "stdout",
     "output_type": "stream",
     "text": [
      "40.000%\n",
      "57.143%\n",
      "33.333%\n",
      "33.333%\n",
      "3.252%\n"
     ]
    }
   ],
   "source": [
    "#4344 소수점 셋째 자리까지 출력 하는 방법을 모름 + 틀림\n",
    "\n",
    "a = int(input())\n",
    "n = 0\n",
    "nb = 0\n",
    "for i in range(a):\n",
    "    b = list(input().split())\n",
    "    for j in b:\n",
    "        n = n + int(j)\n",
    "    na = (n - int(b[0])) / int(b[0])\n",
    "    for k in b:\n",
    "        if int(k) > na:\n",
    "            nb = nb + 1\n",
    "    aw = nb / int(b[0]) * 100\n",
    "    print('%.3f' %aw + '%') # 소수점 셋째자리까지 출력 방법\n",
    "\n",
    "# n = 0 , nb = 0 을 for 구문 안에 넣어두지 않아 초기화가 되지 않았음\n",
    "a = int(input())\n",
    "for i in range(a):\n",
    "    n = 0\n",
    "    nb = 0\n",
    "    b = list(input().split())\n",
    "    for j in b:\n",
    "        n = n + int(j)\n",
    "    na = (n - int(b[0])) / int(b[0])\n",
    "    for k in b:\n",
    "        if int(k) > na:\n",
    "            nb = nb + 1\n",
    "    aw = nb / int(b[0]) * 100\n",
    "    print('%.3f' %aw + '%')\n",
    "\n",
    "# 정답은\n",
    "num = int(input())\n",
    "\n",
    "for _ in range(num):\n",
    "    scores = list(map(int, input().split()))\n",
    "    avg = sum(scores[1:])/scores[0]\n",
    "    \n",
    "    cnt = 0\n",
    "    for i in scores[1:]:\n",
    "        if i > avg:\n",
    "            cnt += 1\n",
    "            \n",
    "    per = (cnt/scores[0])*100\n",
    "    print('%.3f' %per + '%')\n"
   ]
  },
  {
   "cell_type": "code",
   "execution_count": 2,
   "metadata": {},
   "outputs": [
    {
     "ename": "NameError",
     "evalue": "name 'c' is not defined",
     "output_type": "error",
     "traceback": [
      "\u001b[1;31m---------------------------------------------------------------------------\u001b[0m",
      "\u001b[1;31mNameError\u001b[0m                                 Traceback (most recent call last)",
      "\u001b[1;32m<ipython-input-2-32a8c6dc23fc>\u001b[0m in \u001b[0;36m<module>\u001b[1;34m\u001b[0m\n\u001b[0;32m     17\u001b[0m \u001b[1;33m\u001b[0m\u001b[0m\n\u001b[0;32m     18\u001b[0m \u001b[1;32mfor\u001b[0m \u001b[0mj\u001b[0m \u001b[1;32min\u001b[0m \u001b[0mrange\u001b[0m\u001b[1;33m(\u001b[0m\u001b[1;36m10001\u001b[0m\u001b[1;33m)\u001b[0m\u001b[1;33m:\u001b[0m\u001b[1;33m\u001b[0m\u001b[1;33m\u001b[0m\u001b[0m\n\u001b[1;32m---> 19\u001b[1;33m     \u001b[1;32mif\u001b[0m \u001b[0mj\u001b[0m \u001b[1;33m==\u001b[0m \u001b[0mc\u001b[0m\u001b[1;33m[\u001b[0m\u001b[0mj\u001b[0m\u001b[1;33m]\u001b[0m\u001b[1;33m:\u001b[0m\u001b[1;33m\u001b[0m\u001b[1;33m\u001b[0m\u001b[0m\n\u001b[0m\u001b[0;32m     20\u001b[0m         \u001b[1;32mpass\u001b[0m\u001b[1;33m\u001b[0m\u001b[1;33m\u001b[0m\u001b[0m\n\u001b[0;32m     21\u001b[0m     \u001b[1;32melse\u001b[0m\u001b[1;33m:\u001b[0m\u001b[1;33m\u001b[0m\u001b[1;33m\u001b[0m\u001b[0m\n",
      "\u001b[1;31mNameError\u001b[0m: name 'c' is not defined"
     ]
    }
   ],
   "source": [
    "#4673\n",
    "#문제에서 셀프 넘버 만드는 식을 줌\n",
    "def d(a):\n",
    "    n = a\n",
    "    a = list(str(a))\n",
    "    for i in a:\n",
    "        n = n + a[i]\n",
    "        return\n",
    "#############\n",
    "def n(a):\n",
    "    c = list.append(c)\n",
    "    for i in a:\n",
    "        a = list(str(a))\n",
    "        b = b + a[i]\n",
    "    c = a + b\n",
    "    return c \n",
    "\n",
    "for j in range(10001):\n",
    "    if j == c[j]:\n",
    "        pass\n",
    "    else:\n",
    "        print[j]\n",
    "\n",
    "######################\n",
    "def n(a):\n",
    "    na = a\n",
    "    a = list(str(a))\n",
    "    for i in a:\n",
    "        b = a[i]\n",
    "        c = na + b\n",
    "    return c\n",
    "nl = []\n",
    "for i in range(10001):\n",
    "    nl.append(n(i))\n",
    "for j in range(10001):\n",
    "    if j in nl:\n",
    "        pass\n",
    "    else :\n",
    "        print(j)\n",
    "######################정답\n",
    "def self_Number(n): #d(n) 함수에요 백준문제에 나온\n",
    "    number = n # 33이 들어오면\n",
    "    for i in list(str(n)): #리스트로 쪼개서 [3,3] 으로 나누고\n",
    "        number += int(i) # 즉 33 + 3 + 3\n",
    "    return number #그대로 리턴\n",
    "\n",
    "arr = [] #셀프넘버 아닌애들을 담을 배열\n",
    "\n",
    "for i in range(10000): #10000까지 돌림\n",
    "    arr.append(self_Number(i)) #셀프넘버 아닌 수을 넣어줌\n",
    "\n",
    "for j in range(10000): #마찬가지로\n",
    "    if j in arr: # j에 arr랑 일치하는게 있으면 \n",
    "        pass #그냥 pass pass는 말그대로 넘어가라는거임\n",
    "    else:\n",
    "        print(j) #없으면 셀프넘버라는거니까 출력\n",
    "\n",
    "####내가 적은거 \n",
    "def n(a):\n",
    "    na = a\n",
    "    b = 0\n",
    "    a = list(str(a))\n",
    "    for i in a:\n",
    "        b = b +int(i)\n",
    "        c = na + b\n",
    "    return c\n",
    "nl = []\n",
    "for i in range(10001):\n",
    "    nl.append(n(i))\n",
    "for j in range(10001):\n",
    "    if j in nl:\n",
    "        pass\n",
    "    else :\n",
    "        print(j)\n"
   ]
  },
  {
   "cell_type": "code",
   "execution_count": 28,
   "metadata": {},
   "outputs": [
    {
     "name": "stdout",
     "output_type": "stream",
     "text": [
      "110\n"
     ]
    }
   ],
   "source": [
    "#1065 1트\n",
    "inp = int(input())\n",
    "\n",
    "def d(n):\n",
    "    n = list(str(n))\n",
    "    a = n[0]\n",
    "    b = n[1]\n",
    "    c = n[2] \n",
    "    return a,b,c\n",
    "    \n",
    "nl = []\n",
    "\n",
    "for i in range(inp):\n",
    "    if i < 100:\n",
    "        nl.append(i)\n",
    "    elif i >= 100 & int(a)-int(b) == int(b)-int(c) :\n",
    "        nl.append(d(i))\n",
    "    else :\n",
    "        pass\n",
    "    \n",
    "print(len(nl))\n",
    "        \n",
    "### 2트\n",
    "inp = int(input())\n",
    "\n",
    "def d(n):\n",
    "    n = list(str(n))\n",
    "    a = n[0]\n",
    "    b = n[1]\n",
    "    c = n[2]\n",
    "    return a,b,c\n",
    "    \n",
    "nl = []\n",
    "\n",
    "for i in range(inp):\n",
    "    if i < 100:\n",
    "        nl.append(i)\n",
    "    elif i >= 100 :\n",
    "        if int(a) - int(b) == int(b) - int(c):\n",
    "            nl.append(i)\n",
    "         else:\n",
    "            pass\n",
    "    else:\n",
    "        pass\n",
    "    \n",
    "    \n",
    "print(len(nl))\n",
    "        \n",
    "## 3트\n",
    "        "
   ]
  },
  {
   "cell_type": "code",
   "execution_count": 37,
   "metadata": {},
   "outputs": [
    {
     "name": "stdout",
     "output_type": "stream",
     "text": [
      "110\n"
     ]
    }
   ],
   "source": [
    "inp = int(input())\n",
    "\n",
    "def d(n):\n",
    "    n = list(str(n))\n",
    "    a = n[0]\n",
    "    b = n[1]\n",
    "    c = n[2]\n",
    "    t = int(a) - int(b)\n",
    "    y = int(b) - int(c)\n",
    "    if y == t:\n",
    "        return\n",
    "    else:\n",
    "        pass\n",
    "\n",
    "    \n",
    "nl = []\n",
    "\n",
    "for i in range(inp):\n",
    "    if i < 100:\n",
    "        nl.append(i)\n",
    "    else :\n",
    "        nl.append(d(i))\n",
    "   \n",
    "    \n",
    "    \n",
    "print(len(nl))\n",
    "\n",
    "##답은 \n",
    "def hansu(num) :\n",
    "    hansu_cnt = 0\n",
    "    for i in range(1, num+1):\n",
    "        num_list = list(map(int,str(i)))\n",
    "        if i < 100:\n",
    "            hansu_cnt += 1\n",
    "        elif num_list[0]-num_list[1] == num_list[1]-num_list[2]:\n",
    "            hansu_cnt += 1\n",
    "    return hansu_cnt\n",
    "\n",
    "num = int(input())\n",
    "print(hansu(num))"
   ]
  },
  {
   "cell_type": "code",
   "execution_count": 3,
   "metadata": {},
   "outputs": [
    {
     "name": "stdout",
     "output_type": "stream",
     "text": [
      "99\n"
     ]
    }
   ],
   "source": [
    "#11654 아스키코드 출력 \n",
    "\n",
    "asc = input()\n",
    "print(ord(asc))\n",
    "\n"
   ]
  },
  {
   "cell_type": "code",
   "execution_count": null,
   "metadata": {},
   "outputs": [],
   "source": [
    "# 11720 내가 작성한 코드 \n",
    "\n",
    "a = int(input())\n",
    "b = list(map(int,str(input())))\n",
    "aw = 0 \n",
    "for i in range(a):\n",
    "    aw = aw + b[i]\n",
    "print(aw)\n",
    "    \n",
    "# 고수가 작성한 것 \n",
    "n = input()\n",
    "\n",
    "print(sum(map(int,input())))"
   ]
  },
  {
   "cell_type": "code",
   "execution_count": null,
   "metadata": {},
   "outputs": [],
   "source": []
  },
  {
   "cell_type": "code",
   "execution_count": null,
   "metadata": {},
   "outputs": [],
   "source": []
  }
 ],
 "metadata": {
  "kernelspec": {
   "display_name": "Python 3.8.8 ('base')",
   "language": "python",
   "name": "python3"
  },
  "language_info": {
   "codemirror_mode": {
    "name": "ipython",
    "version": 3
   },
   "file_extension": ".py",
   "mimetype": "text/x-python",
   "name": "python",
   "nbconvert_exporter": "python",
   "pygments_lexer": "ipython3",
   "version": "3.8.8"
  },
  "orig_nbformat": 4,
  "vscode": {
   "interpreter": {
    "hash": "f0c1aeec31cf675632540dd5d68a13a3fe8c6f49e80f8045887c88a29c5c55cc"
   }
  }
 },
 "nbformat": 4,
 "nbformat_minor": 2
}
