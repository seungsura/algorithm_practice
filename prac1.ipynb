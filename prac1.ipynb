{
 "cells": [
  {
   "cell_type": "code",
   "execution_count": 1,
   "metadata": {},
   "outputs": [
    {
     "name": "stdout",
     "output_type": "stream",
     "text": [
      "|\\_/|\n",
      "|q p|   /}\n",
      "( 0 )\"\"\"\\\n",
      "|\"^\"`    |\n",
      "||_/=\\\\__|\n"
     ]
    }
   ],
   "source": [
    "print('|\\\\_/|')\n",
    "print('|q p|   /}')\n",
    "print('( 0 )\"\"\"\\\\')\n",
    "print('|\"^\"`    |')\n",
    "print('||_/=\\\\\\\\__|')\n",
    "\n",
    "# '\\'를 출력하고 싶다면 '\\\\'으로 적음\n"
   ]
  },
  {
   "cell_type": "code",
   "execution_count": 3,
   "metadata": {},
   "outputs": [
    {
     "name": "stdout",
     "output_type": "stream",
     "text": [
      "7\n",
      "-3\n",
      "10\n",
      "0.4\n",
      "2\n",
      "0\n"
     ]
    }
   ],
   "source": [
    "#두 자연수 A와 B가 주어진다. 이때, A+B, A-B, A*B, A/B(몫), A%B(나머지)를 출력하는 프로그램을 작성하시오. \n",
    "\n",
    "a, b = map(int, input().split())\n",
    "print(a + b)\n",
    "print(a - b)\n",
    "print(a * b)\n",
    "print(a / b)\n",
    "print(a % b)\n",
    "\n",
    "# print(a / b)로 적을 경우 나머지 까지 출력이 된다. 따라서 print(int(a / b))로 적을 것  \n",
    "\n",
    "print(int(a / b))"
   ]
  },
  {
   "cell_type": "code",
   "execution_count": 8,
   "metadata": {},
   "outputs": [
    {
     "name": "stdout",
     "output_type": "stream",
     "text": [
      "a+??!\n",
      "312312312??!\n",
      "312312312 ??!\n",
      "21312312??!\n"
     ]
    }
   ],
   "source": [
    "#준하는 사이트에 회원가입을 하다가 joonas라는 아이디가 이미 존재하는 것을 보고 놀랐다. \n",
    "#준하는 놀람을 ??!로 표현한다. \n",
    "#준하가 가입하려고 하는 사이트에 이미 존재하는 아이디가 주어졌을 때, 놀람을 표현하는 프로그램을 작성하시오.\n",
    "\n",
    "a = input()\n",
    "\n",
    "print('a+??!')\n",
    "\n",
    "#'' 의 범위 생각 \n",
    "print(a+'??!')\n",
    "print(a, '??!') #  , 의 경우 띄어쓰기가 됌. \n",
    "\n",
    "print(input()+'??!') #도 가능\n"
   ]
  },
  {
   "cell_type": "code",
   "execution_count": 13,
   "metadata": {},
   "outputs": [
    {
     "name": "stdout",
     "output_type": "stream",
     "text": [
      "<\n"
     ]
    }
   ],
   "source": [
    "a, b = map(int, input().split())\n",
    "\n",
    "if a > b :\n",
    "    print('>')\n",
    "elif a < b:\n",
    "        print('<')\n",
    "elif a == b:\n",
    "        print('==')"
   ]
  },
  {
   "cell_type": "code",
   "execution_count": 2,
   "metadata": {},
   "outputs": [
    {
     "name": "stdout",
     "output_type": "stream",
     "text": [
      "A\n"
     ]
    }
   ],
   "source": [
    "i = int(input())\n",
    "\n",
    "if i >= 90 :\n",
    "    print('A')\n",
    "elif 89 >= i >=80 : \n",
    "    print('B')\n",
    "elif 79 >= i >=70 :\n",
    "    print('C')\n",
    "elif 69 >= i >=60 :\n",
    "    print('D')\n",
    "elif 59>= i :\n",
    "    print('F')"
   ]
  },
  {
   "cell_type": "code",
   "execution_count": 19,
   "metadata": {},
   "outputs": [
    {
     "name": "stdout",
     "output_type": "stream",
     "text": [
      "0\n"
     ]
    }
   ],
   "source": [
    "i = int(input())\n",
    "\n",
    "if ((i % 4 == 0 )and(i % 100 != 0))or (i % 400 == 0):\n",
    "    print('1')\n",
    "else:\n",
    "    print('0')\n",
    "\n",
    "\n",
    "#a = int(input())\n",
    "#if (a % 4 == 0) & ((a % 100 != 0) | (a % 400 == 0)) :\n",
    "    #print(\"1\")\n",
    "#else :\n",
    "    #print(\"0\")"
   ]
  },
  {
   "cell_type": "code",
   "execution_count": 16,
   "metadata": {},
   "outputs": [
    {
     "name": "stdout",
     "output_type": "stream",
     "text": [
      "2 39\n",
      "2 39\n"
     ]
    }
   ],
   "source": [
    "a, b = map(int, input().split())\n",
    "\n",
    "if ((a == 0) & (b < 45)):\n",
    "    print(23 , b + 15)\n",
    "elif ((a ==0) & (b == 45)):\n",
    "    print(a , 0)\n",
    "elif ((a != 0) & (b < 45)):\n",
    "    print(a - 1, b + 15)\n",
    "elif ((a != 0) & (b == 45)):\n",
    "    print(a , 0)\n",
    "else:\n",
    "    print(a , b - 45)\n",
    "\n",
    "\n",
    "#아래 식이랑 완전히 같음 \n",
    "a, b = map(int, input().split())\n",
    "\n",
    "if ((a == 0) & (b < 45)):\n",
    "    print(23 , b + 15)\n",
    "\n",
    "elif ((a != 0) & (b < 45)):\n",
    "    print(a - 1, b + 15)\n",
    "\n",
    "else:\n",
    "    print(a , b - 45)"
   ]
  },
  {
   "cell_type": "code",
   "execution_count": 34,
   "metadata": {},
   "outputs": [
    {
     "name": "stdout",
     "output_type": "stream",
     "text": [
      "19 25\n"
     ]
    }
   ],
   "source": [
    "#백준 2525\n",
    "\n",
    "a, b = map(int, input().split())\n",
    "c = int(input())\n",
    "i = int((c) / 60)\n",
    "j = int((c) % 60)\n",
    "\n",
    "\n",
    "if ((i > 0) & (b+j < 60) & (a+ 1 < 0)) :\n",
    "    print(a + i, b+j )\n",
    "    \n",
    "elif ((i > 0) & (b + j >= 60) & (a + 1 + i < 0)):\n",
    "    print(a + 1 + i , b+ j - 60)\n",
    "    \n",
    "elif (( i == 0 ) & (b + j >= 60) (a + 1 <0 )):\n",
    "    print(a + 1 , b + j - 60)\n",
    "    \n",
    "else :\n",
    "    print(a , b + j)\n",
    "#처음 작성한거\n",
    "\n",
    "a, b = map(int, input().split())\n",
    "c = int(input())\n",
    "b += c\n",
    "a+= (b//60)\n",
    "b %= 60\n",
    "if a >23:\n",
    "    a -=24\n",
    "print(a, b)\n",
    "#정답지\n",
    "\n",
    "\n",
    "a, b = map(int, input().split())\n",
    "c = int(input())\n",
    "b = b + c\n",
    "a = a + int(b / 60)\n",
    "b = b % 60\n",
    "if a > 23:\n",
    "    a = a - 24\n",
    "print(a, b)\n",
    "#내가 작성한거"
   ]
  },
  {
   "cell_type": "code",
   "execution_count": 50,
   "metadata": {},
   "outputs": [
    {
     "name": "stdout",
     "output_type": "stream",
     "text": [
      "600\n"
     ]
    }
   ],
   "source": [
    "#백준 2480\n",
    "a, b, c = map(int, input().split())\n",
    "\n",
    "if (a == b == c):\n",
    "    print(10000 + a * 1000)\n",
    "elif ((a == b) | (a == c)):\n",
    "    print(1000 + a * 100)\n",
    "elif (b == c):\n",
    "    print(1000 + b * 100)\n",
    "else:\n",
    "    print(max(a,b,c)* 100)\n",
    "    "
   ]
  },
  {
   "cell_type": "code",
   "execution_count": null,
   "metadata": {},
   "outputs": [],
   "source": []
  },
  {
   "cell_type": "code",
   "execution_count": null,
   "metadata": {},
   "outputs": [],
   "source": []
  }
 ],
 "metadata": {
  "kernelspec": {
   "display_name": "Python 3.8.11 ('tensorflow')",
   "language": "python",
   "name": "python3"
  },
  "language_info": {
   "codemirror_mode": {
    "name": "ipython",
    "version": 3
   },
   "file_extension": ".py",
   "mimetype": "text/x-python",
   "name": "python",
   "nbconvert_exporter": "python",
   "pygments_lexer": "ipython3",
   "version": "3.8.11"
  },
  "orig_nbformat": 4,
  "vscode": {
   "interpreter": {
    "hash": "a67d1e513a63fb5df12a1f88f9fb53c8b960337494b38d9e1ad0fe9c421b1da6"
   }
  }
 },
 "nbformat": 4,
 "nbformat_minor": 2
}
